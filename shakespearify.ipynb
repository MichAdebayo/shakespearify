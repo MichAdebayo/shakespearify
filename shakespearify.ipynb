{
 "cells": [
  {
   "cell_type": "code",
   "execution_count": 1,
   "id": "42113597",
   "metadata": {},
   "outputs": [
    {
     "name": "stderr",
     "output_type": "stream",
     "text": [
      "/Users/michaeladebayo/Documents/Simplon/brief_projects/shakespearify/.venv/lib/python3.12/site-packages/tqdm/auto.py:21: TqdmWarning: IProgress not found. Please update jupyter and ipywidgets. See https://ipywidgets.readthedocs.io/en/stable/user_install.html\n",
      "  from .autonotebook import tqdm as notebook_tqdm\n"
     ]
    },
    {
     "name": "stdout",
     "output_type": "stream",
     "text": [
      "Path to dataset files: /Users/michaeladebayo/.cache/kagglehub/datasets/garnavaurha/shakespearify/versions/1\n"
     ]
    },
    {
     "data": {
      "application/vnd.microsoft.datawrangler.viewer.v0+json": {
       "columns": [
        {
         "name": "index",
         "rawType": "int64",
         "type": "integer"
        },
        {
         "name": "Unnamed: 0",
         "rawType": "int64",
         "type": "integer"
        },
        {
         "name": "id",
         "rawType": "object",
         "type": "string"
        },
        {
         "name": "og",
         "rawType": "object",
         "type": "string"
        },
        {
         "name": "t",
         "rawType": "object",
         "type": "string"
        }
       ],
       "ref": "93c711bd-4e2c-424a-9d1a-f6b01616e9e3",
       "rows": [
        [
         "0",
         "0",
         "42928-1500614319216-63344",
         " You do not meet a man but frowns: ",
         "Every man you meet these days is frowning."
        ],
        [
         "1",
         "1",
         "42928-1500614326583-89821",
         " our bloods  No more obey the heavens than our courtiers  Still seem as does the king. ",
         " Our bodies are in agreement with the planetary influences just as the courtiers's moods seem to reflect the king's."
        ],
        [
         "2",
         "2",
         "A-63849",
         "  But what's the matter?  ",
         "What's wrong?"
        ],
        [
         "3",
         "3",
         "42930-1500614347266-80123",
         " His daughter, and the heir of's kingdom, whom  He purposed to his wife's sole son—a widow  That late he married—hath referr'd herself  Unto a poor but worthy gentleman: ",
         "The king wanted his daughter, the only heir to his kingdom, to marry his wife's only son. By his wife, I mean a widow he recently married. But the daughter decided to marry a poor but honest man instead."
        ],
        [
         "4",
         "4",
         "42930-1500614355280-38326",
         " she's wedded;  Her husband banish'd; she imprison'd: all  Is outward sorrow; though I think the king  Be touch'd at very heart. ",
         " She's married, her husband is banished, she's imprisoned: everything seems terrible. I think the king is overwhelmed with sadness."
        ]
       ],
       "shape": {
        "columns": 4,
        "rows": 5
       }
      },
      "text/html": [
       "<div>\n",
       "<style scoped>\n",
       "    .dataframe tbody tr th:only-of-type {\n",
       "        vertical-align: middle;\n",
       "    }\n",
       "\n",
       "    .dataframe tbody tr th {\n",
       "        vertical-align: top;\n",
       "    }\n",
       "\n",
       "    .dataframe thead th {\n",
       "        text-align: right;\n",
       "    }\n",
       "</style>\n",
       "<table border=\"1\" class=\"dataframe\">\n",
       "  <thead>\n",
       "    <tr style=\"text-align: right;\">\n",
       "      <th></th>\n",
       "      <th>Unnamed: 0</th>\n",
       "      <th>id</th>\n",
       "      <th>og</th>\n",
       "      <th>t</th>\n",
       "    </tr>\n",
       "  </thead>\n",
       "  <tbody>\n",
       "    <tr>\n",
       "      <th>0</th>\n",
       "      <td>0</td>\n",
       "      <td>42928-1500614319216-63344</td>\n",
       "      <td>You do not meet a man but frowns:</td>\n",
       "      <td>Every man you meet these days is frowning.</td>\n",
       "    </tr>\n",
       "    <tr>\n",
       "      <th>1</th>\n",
       "      <td>1</td>\n",
       "      <td>42928-1500614326583-89821</td>\n",
       "      <td>our bloods  No more obey the heavens than our...</td>\n",
       "      <td>Our bodies are in agreement with the planetar...</td>\n",
       "    </tr>\n",
       "    <tr>\n",
       "      <th>2</th>\n",
       "      <td>2</td>\n",
       "      <td>A-63849</td>\n",
       "      <td>But what's the matter?</td>\n",
       "      <td>What's wrong?</td>\n",
       "    </tr>\n",
       "    <tr>\n",
       "      <th>3</th>\n",
       "      <td>3</td>\n",
       "      <td>42930-1500614347266-80123</td>\n",
       "      <td>His daughter, and the heir of's kingdom, whom...</td>\n",
       "      <td>The king wanted his daughter, the only heir to...</td>\n",
       "    </tr>\n",
       "    <tr>\n",
       "      <th>4</th>\n",
       "      <td>4</td>\n",
       "      <td>42930-1500614355280-38326</td>\n",
       "      <td>she's wedded;  Her husband banish'd; she impr...</td>\n",
       "      <td>She's married, her husband is banished, she's...</td>\n",
       "    </tr>\n",
       "  </tbody>\n",
       "</table>\n",
       "</div>"
      ],
      "text/plain": [
       "   Unnamed: 0                         id  \\\n",
       "0           0  42928-1500614319216-63344   \n",
       "1           1  42928-1500614326583-89821   \n",
       "2           2                    A-63849   \n",
       "3           3  42930-1500614347266-80123   \n",
       "4           4  42930-1500614355280-38326   \n",
       "\n",
       "                                                  og  \\\n",
       "0                 You do not meet a man but frowns:    \n",
       "1   our bloods  No more obey the heavens than our...   \n",
       "2                           But what's the matter?     \n",
       "3   His daughter, and the heir of's kingdom, whom...   \n",
       "4   she's wedded;  Her husband banish'd; she impr...   \n",
       "\n",
       "                                                   t  \n",
       "0         Every man you meet these days is frowning.  \n",
       "1   Our bodies are in agreement with the planetar...  \n",
       "2                                      What's wrong?  \n",
       "3  The king wanted his daughter, the only heir to...  \n",
       "4   She's married, her husband is banished, she's...  "
      ]
     },
     "execution_count": 1,
     "metadata": {},
     "output_type": "execute_result"
    }
   ],
   "source": [
    "import kagglehub\n",
    "import pandas as pd\n",
    "\n",
    "# Download latest version\n",
    "path = kagglehub.dataset_download(\"garnavaurha/shakespearify\")\n",
    "\n",
    "print(\"Path to dataset files:\", path)\n",
    "\n",
    "# Load the dataset into a pandas DataFrame\n",
    "df = pd.read_csv(f\"{path}/final.csv\")\n",
    "\n",
    "df.head()"
   ]
  },
  {
   "cell_type": "code",
   "execution_count": 1,
   "id": "a95c065e",
   "metadata": {},
   "outputs": [
    {
     "name": "stderr",
     "output_type": "stream",
     "text": [
      "/Users/michaeladebayo/Documents/Simplon/brief_projects/shakespearify/.venv/lib/python3.12/site-packages/tqdm/auto.py:21: TqdmWarning: IProgress not found. Please update jupyter and ipywidgets. See https://ipywidgets.readthedocs.io/en/stable/user_install.html\n",
      "  from .autonotebook import tqdm as notebook_tqdm\n",
      "\n",
      "A module that was compiled using NumPy 1.x cannot be run in\n",
      "NumPy 2.3.0 as it may crash. To support both 1.x and 2.x\n",
      "versions of NumPy, modules must be compiled with NumPy 2.0.\n",
      "Some module may need to rebuild instead e.g. with 'pybind11>=2.12'.\n",
      "\n",
      "If you are a user of the module, the easiest solution will be to\n",
      "downgrade to 'numpy<2' or try to upgrade the affected module.\n",
      "We expect that some modules will need time to support NumPy 2.\n",
      "\n",
      "Traceback (most recent call last):  File \"<frozen runpy>\", line 198, in _run_module_as_main\n",
      "  File \"<frozen runpy>\", line 88, in _run_code\n",
      "  File \"/Users/michaeladebayo/Documents/Simplon/brief_projects/shakespearify/.venv/lib/python3.12/site-packages/ipykernel_launcher.py\", line 18, in <module>\n",
      "    app.launch_new_instance()\n",
      "  File \"/Users/michaeladebayo/Documents/Simplon/brief_projects/shakespearify/.venv/lib/python3.12/site-packages/traitlets/config/application.py\", line 1075, in launch_instance\n",
      "    app.start()\n",
      "  File \"/Users/michaeladebayo/Documents/Simplon/brief_projects/shakespearify/.venv/lib/python3.12/site-packages/ipykernel/kernelapp.py\", line 739, in start\n",
      "    self.io_loop.start()\n",
      "  File \"/Users/michaeladebayo/Documents/Simplon/brief_projects/shakespearify/.venv/lib/python3.12/site-packages/tornado/platform/asyncio.py\", line 211, in start\n",
      "    self.asyncio_loop.run_forever()\n",
      "  File \"/Library/Frameworks/Python.framework/Versions/3.12/lib/python3.12/asyncio/base_events.py\", line 641, in run_forever\n",
      "    self._run_once()\n",
      "  File \"/Library/Frameworks/Python.framework/Versions/3.12/lib/python3.12/asyncio/base_events.py\", line 1987, in _run_once\n",
      "    handle._run()\n",
      "  File \"/Library/Frameworks/Python.framework/Versions/3.12/lib/python3.12/asyncio/events.py\", line 88, in _run\n",
      "    self._context.run(self._callback, *self._args)\n",
      "  File \"/Users/michaeladebayo/Documents/Simplon/brief_projects/shakespearify/.venv/lib/python3.12/site-packages/ipykernel/kernelbase.py\", line 545, in dispatch_queue\n",
      "    await self.process_one()\n",
      "  File \"/Users/michaeladebayo/Documents/Simplon/brief_projects/shakespearify/.venv/lib/python3.12/site-packages/ipykernel/kernelbase.py\", line 534, in process_one\n",
      "    await dispatch(*args)\n",
      "  File \"/Users/michaeladebayo/Documents/Simplon/brief_projects/shakespearify/.venv/lib/python3.12/site-packages/ipykernel/kernelbase.py\", line 437, in dispatch_shell\n",
      "    await result\n",
      "  File \"/Users/michaeladebayo/Documents/Simplon/brief_projects/shakespearify/.venv/lib/python3.12/site-packages/ipykernel/ipkernel.py\", line 362, in execute_request\n",
      "    await super().execute_request(stream, ident, parent)\n",
      "  File \"/Users/michaeladebayo/Documents/Simplon/brief_projects/shakespearify/.venv/lib/python3.12/site-packages/ipykernel/kernelbase.py\", line 778, in execute_request\n",
      "    reply_content = await reply_content\n",
      "  File \"/Users/michaeladebayo/Documents/Simplon/brief_projects/shakespearify/.venv/lib/python3.12/site-packages/ipykernel/ipkernel.py\", line 449, in do_execute\n",
      "    res = shell.run_cell(\n",
      "  File \"/Users/michaeladebayo/Documents/Simplon/brief_projects/shakespearify/.venv/lib/python3.12/site-packages/ipykernel/zmqshell.py\", line 549, in run_cell\n",
      "    return super().run_cell(*args, **kwargs)\n",
      "  File \"/Users/michaeladebayo/Documents/Simplon/brief_projects/shakespearify/.venv/lib/python3.12/site-packages/IPython/core/interactiveshell.py\", line 3100, in run_cell\n",
      "    result = self._run_cell(\n",
      "  File \"/Users/michaeladebayo/Documents/Simplon/brief_projects/shakespearify/.venv/lib/python3.12/site-packages/IPython/core/interactiveshell.py\", line 3155, in _run_cell\n",
      "    result = runner(coro)\n",
      "  File \"/Users/michaeladebayo/Documents/Simplon/brief_projects/shakespearify/.venv/lib/python3.12/site-packages/IPython/core/async_helpers.py\", line 128, in _pseudo_sync_runner\n",
      "    coro.send(None)\n",
      "  File \"/Users/michaeladebayo/Documents/Simplon/brief_projects/shakespearify/.venv/lib/python3.12/site-packages/IPython/core/interactiveshell.py\", line 3367, in run_cell_async\n",
      "    has_raised = await self.run_ast_nodes(code_ast.body, cell_name,\n",
      "  File \"/Users/michaeladebayo/Documents/Simplon/brief_projects/shakespearify/.venv/lib/python3.12/site-packages/IPython/core/interactiveshell.py\", line 3612, in run_ast_nodes\n",
      "    if await self.run_code(code, result, async_=asy):\n",
      "  File \"/Users/michaeladebayo/Documents/Simplon/brief_projects/shakespearify/.venv/lib/python3.12/site-packages/IPython/core/interactiveshell.py\", line 3672, in run_code\n",
      "    exec(code_obj, self.user_global_ns, self.user_ns)\n",
      "  File \"/var/folders/ml/v613w2ns1z31hpn87j8vcl8h0000gq/T/ipykernel_93962/3725201945.py\", line 1, in <module>\n",
      "    from transformers import T5Tokenizer, T5ForConditionalGeneration\n",
      "  File \"/Users/michaeladebayo/Documents/Simplon/brief_projects/shakespearify/.venv/lib/python3.12/site-packages/transformers/__init__.py\", line 27, in <module>\n",
      "    from . import dependency_versions_check\n",
      "  File \"/Users/michaeladebayo/Documents/Simplon/brief_projects/shakespearify/.venv/lib/python3.12/site-packages/transformers/dependency_versions_check.py\", line 16, in <module>\n",
      "    from .utils.versions import require_version, require_version_core\n",
      "  File \"/Users/michaeladebayo/Documents/Simplon/brief_projects/shakespearify/.venv/lib/python3.12/site-packages/transformers/utils/__init__.py\", line 24, in <module>\n",
      "    from .args_doc import (\n",
      "  File \"/Users/michaeladebayo/Documents/Simplon/brief_projects/shakespearify/.venv/lib/python3.12/site-packages/transformers/utils/args_doc.py\", line 30, in <module>\n",
      "    from .generic import ModelOutput\n",
      "  File \"/Users/michaeladebayo/Documents/Simplon/brief_projects/shakespearify/.venv/lib/python3.12/site-packages/transformers/utils/generic.py\", line 46, in <module>\n",
      "    import torch  # noqa: F401\n",
      "  File \"/Users/michaeladebayo/Documents/Simplon/brief_projects/shakespearify/.venv/lib/python3.12/site-packages/torch/__init__.py\", line 1477, in <module>\n",
      "    from .functional import *  # noqa: F403\n",
      "  File \"/Users/michaeladebayo/Documents/Simplon/brief_projects/shakespearify/.venv/lib/python3.12/site-packages/torch/functional.py\", line 9, in <module>\n",
      "    import torch.nn.functional as F\n",
      "  File \"/Users/michaeladebayo/Documents/Simplon/brief_projects/shakespearify/.venv/lib/python3.12/site-packages/torch/nn/__init__.py\", line 1, in <module>\n",
      "    from .modules import *  # noqa: F403\n",
      "  File \"/Users/michaeladebayo/Documents/Simplon/brief_projects/shakespearify/.venv/lib/python3.12/site-packages/torch/nn/modules/__init__.py\", line 35, in <module>\n",
      "    from .transformer import TransformerEncoder, TransformerDecoder, \\\n",
      "  File \"/Users/michaeladebayo/Documents/Simplon/brief_projects/shakespearify/.venv/lib/python3.12/site-packages/torch/nn/modules/transformer.py\", line 20, in <module>\n",
      "    device: torch.device = torch.device(torch._C._get_default_device()),  # torch.device('cpu'),\n",
      "/Users/michaeladebayo/Documents/Simplon/brief_projects/shakespearify/.venv/lib/python3.12/site-packages/torch/nn/modules/transformer.py:20: UserWarning: Failed to initialize NumPy: _ARRAY_API not found (Triggered internally at /Users/runner/work/pytorch/pytorch/pytorch/torch/csrc/utils/tensor_numpy.cpp:84.)\n",
      "  device: torch.device = torch.device(torch._C._get_default_device()),  # torch.device('cpu'),\n",
      "You are using the default legacy behaviour of the <class 'transformers.models.t5.tokenization_t5.T5Tokenizer'>. This is expected, and simply means that the `legacy` (previous) behavior will be used so nothing changes for you. If you want to use the new behaviour, set `legacy=False`. This should only be set if you understand what it means, and thoroughly read the reason why this was added as explained in https://github.com/huggingface/transformers/pull/24565\n"
     ]
    },
    {
     "name": "stdout",
     "output_type": "stream",
     "text": [
      "\n"
     ]
    }
   ],
   "source": [
    "from transformers import T5Tokenizer, T5ForConditionalGeneration\n",
    "\n",
    "# Load the model and tokenizer\n",
    "tokenizer = T5Tokenizer.from_pretrained(\"t5-small\")\n",
    "model = T5ForConditionalGeneration.from_pretrained(\"t5-small\")\n",
    "\n",
    "# Your input sentence\n",
    "input_text = \"modern to shakespeare: Where are you going?\"\n",
    "\n",
    "# Tokenize and generate output\n",
    "input_ids = tokenizer.encode(input_text, return_tensors=\"pt\")\n",
    "output_ids = model.generate(input_ids, max_length=50)\n",
    "shakespeare_text = tokenizer.decode(output_ids[0], skip_special_tokens=True)\n",
    "\n",
    "print(shakespeare_text)"
   ]
  },
  {
   "cell_type": "code",
   "execution_count": null,
   "id": "6f5d9181",
   "metadata": {},
   "outputs": [],
   "source": [
    "from transformers import T5Tokenizer, T5ForConditionalGeneration\n",
    "from transformers.trainer import Trainer\n",
    "from transformers.training_args import TrainingArguments\n",
    "\n",
    "# Load model\n",
    "tokenizer = T5Tokenizer.from_pretrained(\"t5-small\")\n",
    "model = T5ForConditionalGeneration.from_pretrained(\"t5-small\")\n",
    "\n",
    "# Prepare dataset (input_text, target_text)\n",
    "input_text = df['t']\n",
    "target_text = df['og']\n",
    "\n",
    "# Tokenize and train "
   ]
  }
 ],
 "metadata": {
  "kernelspec": {
   "display_name": ".venv",
   "language": "python",
   "name": "python3"
  },
  "language_info": {
   "codemirror_mode": {
    "name": "ipython",
    "version": 3
   },
   "file_extension": ".py",
   "mimetype": "text/x-python",
   "name": "python",
   "nbconvert_exporter": "python",
   "pygments_lexer": "ipython3",
   "version": "3.12.3"
  }
 },
 "nbformat": 4,
 "nbformat_minor": 5
}
